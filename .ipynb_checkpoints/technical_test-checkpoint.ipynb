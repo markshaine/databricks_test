{
 "cells": [
  {
   "cell_type": "code",
   "execution_count": null,
   "id": "e6d35a13-fe81-4874-aab7-a199ae1e28a0",
   "metadata": {},
   "outputs": [],
   "source": [
    "import sqlite3 #library that works with sql in python environment\n",
    "\n",
    "\n",
    "conn = sqlite3.connect('f1.db') #creating a connection to the database for our example we use f1.db\n",
    "cursor = conn.cursor()\n",
    "\n",
    "sql = '''\n",
    "\n",
    "\n",
    "\n",
    "'''#sql statement\n",
    "cursor.execute(sql) #executing the query\n",
    "\n",
    "results = cursor.fetchall() #fetching and printing all the results\n",
    "for row in results:\n",
    "    print(row)\n",
    "\n",
    "conn.close() #close the connection"
   ]
  }
 ],
 "metadata": {
  "kernelspec": {
   "display_name": "Python 3 (ipykernel)",
   "language": "python",
   "name": "python3"
  },
  "language_info": {
   "codemirror_mode": {
    "name": "ipython",
    "version": 3
   },
   "file_extension": ".py",
   "mimetype": "text/x-python",
   "name": "python",
   "nbconvert_exporter": "python",
   "pygments_lexer": "ipython3",
   "version": "3.12.2"
  }
 },
 "nbformat": 4,
 "nbformat_minor": 5
}
