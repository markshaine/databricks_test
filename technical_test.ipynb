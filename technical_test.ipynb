{
 "cells": [
  {
   "cell_type": "code",
   "execution_count": null,
   "id": "e6d35a13-fe81-4874-aab7-a199ae1e28a0",
   "metadata": {},
   "outputs": [],
   "source": [
    "#Question 1: Database Query\n",
    "\n",
    "import sqlite3 #library that works with sql in python environment\n",
    "\n",
    "\n",
    "conn = sqlite3.connect('f1.db') #creating a connection to the database for our example we use f1.db\n",
    "cursor = conn.cursor()\n",
    "\n",
    "sql = '''\n",
    "    SELECT  results.grid, results.position, results.race_time,\n",
    "    results.fastestLap, results.points, circuit.location, \n",
    "    drivers.driver_name, races.race_name, races.race_year,\n",
    "    constructors.name, races.race_date\n",
    "    FROM results \n",
    "    JOIN circuit ON results.raceId = circuit.circuitId\n",
    "    JOIN drivers ON results.driverId = driver.driverId\n",
    "    JOIN races ON results.raceId = races.raceId\n",
    "    JOIN constructors ON results.constructorId = constructor.constuctorId\n",
    "    WHERE races.year = 2020\n",
    "    ORDER BY results.points ASC\n",
    "    \n",
    "'''#sql statement\n",
    "cursor.execute(sql) #executing the query\n",
    "\n",
    "results = cursor.fetchall() #fetching and printing all the results\n",
    "for row in results:\n",
    "    print(row)\n",
    "\n",
    "conn.close() #close the connection"
   ]
  },
  {
   "cell_type": "code",
   "execution_count": 35,
   "id": "655297f7-383c-4f07-af50-3da09397adb8",
   "metadata": {},
   "outputs": [
    {
     "name": "stdout",
     "output_type": "stream",
     "text": [
      "madam is a palindrome\n"
     ]
    }
   ],
   "source": [
    "#Question 2 :Palindrome function\n",
    "\n",
    "#word = user.input(\"entor word here:\")\n",
    "word = \"madam\"\n",
    "\n",
    "def palindrome_checker(word):\n",
    "    if (word[0]==word[-1]):\n",
    "            print(word, \"is a palindrome\")\n",
    "    else:\n",
    "        print(word, \"is not a palindrome\")\n",
    "            \n",
    "        \n",
    "\n",
    "palindrome_checker(word)"
   ]
  },
  {
   "cell_type": "code",
   "execution_count": 14,
   "id": "bff6dedf-20a6-4739-ae10-f263b47ebec5",
   "metadata": {},
   "outputs": [
    {
     "name": "stdout",
     "output_type": "stream",
     "text": [
      "False\n",
      "True\n"
     ]
    }
   ],
   "source": [
    "#Question 3: Pangram checker\n",
    "import string\n",
    "#generating a list of all alphabets\n",
    "def ispangram(phrase, alphabet = \"abcdefghijklmnopqrstuvwxyz\"):\n",
    "    alphaset = set(alphabet) # creating aa set of all alphabet letters\n",
    "    phrase_case = set(phrase.lower()) #turning the sentence to a lowercase and creating a set\n",
    "    return alphaset.issubset(phrase_case) #checking if the set of lowercase letters is in the set of phrase\n",
    "print(ispangram(\"phrase provided is a pangram\"))\n",
    "print(ispangram(\"the quick brown fox jumped over the lazy dogs\"))    "
   ]
  },
  {
   "cell_type": "code",
   "execution_count": 18,
   "id": "f80af061-8765-49f9-a7e4-576dbe47b688",
   "metadata": {},
   "outputs": [
    {
     "name": "stdout",
     "output_type": "stream",
     "text": [
      "Reversed Number is: 2861\n"
     ]
    },
    {
     "data": {
      "text/plain": [
       "2861"
      ]
     },
     "execution_count": 18,
     "metadata": {},
     "output_type": "execute_result"
    }
   ],
   "source": [
    "#Question 4: reversed digit ordering\n",
    "\n",
    "def reverse(n):\n",
    "    if len(n)==0: #if no other digits remain\n",
    "        return n\n",
    "    else:\n",
    "        return reverse(n[1:]) + n[0] #adds the first digit to the end and recurse for the remaining numbers\n",
    "\n",
    "num = 1682\n",
    "numstring = str(num) #coonvert to string for easier manipulation\n",
    "print(\"Reversed Number is: \" + reverse(numstring))\n",
    "\n",
    "reversed_num = int(reverse(numstring)) #convert back to an integer\n",
    "reversed_num"
   ]
  },
  {
   "cell_type": "code",
   "execution_count": null,
   "id": "bf9fbfec-0d14-4e1c-a8a2-a4b373c08c25",
   "metadata": {},
   "outputs": [],
   "source": [
    "#Question 5: capitalise first letters\n",
    "def capitalize(st):\n",
    "    "
   ]
  }
 ],
 "metadata": {
  "kernelspec": {
   "display_name": "Python 3 (ipykernel)",
   "language": "python",
   "name": "python3"
  },
  "language_info": {
   "codemirror_mode": {
    "name": "ipython",
    "version": 3
   },
   "file_extension": ".py",
   "mimetype": "text/x-python",
   "name": "python",
   "nbconvert_exporter": "python",
   "pygments_lexer": "ipython3",
   "version": "3.12.2"
  }
 },
 "nbformat": 4,
 "nbformat_minor": 5
}
