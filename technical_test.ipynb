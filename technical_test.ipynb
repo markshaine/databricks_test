{
 "cells": [
  {
   "cell_type": "code",
   "execution_count": null,
   "id": "e6d35a13-fe81-4874-aab7-a199ae1e28a0",
   "metadata": {},
   "outputs": [],
   "source": [
    "#Question 1: Database Query\n",
    "\n",
    "import sqlite3 #library that works with sql in python environment\n",
    "\n",
    "\n",
    "conn = sqlite3.connect('f1.db') #creating a connection to the database for our example we use f1.db\n",
    "cursor = conn.cursor()\n",
    "\n",
    "sql = '''\n",
    "    SELECT  results.grid, results.position, results.race_time,\n",
    "    results.fastestLap, results.points, circuit.location, \n",
    "    drivers.driver_name, races.race_name, races.race_year,\n",
    "    constructors.name, races.race_date\n",
    "    FROM results \n",
    "    JOIN circuit ON results.raceId = circuit.circuitId\n",
    "    JOIN drivers ON results.driverId = driver.driverId\n",
    "    JOIN races ON results.raceId = races.raceId\n",
    "    JOIN constructors ON results.constructorId = constructor.constuctorId\n",
    "    WHERE races.year = 2020\n",
    "    ORDER BY results.points ASC\n",
    "    \n",
    "'''#sql statement\n",
    "cursor.execute(sql) #executing the query\n",
    "\n",
    "results = cursor.fetchall() #fetching and printing all the results\n",
    "for row in results:\n",
    "    print(row)\n",
    "\n",
    "conn.close() #close the connection"
   ]
  },
  {
   "cell_type": "code",
   "execution_count": 20,
   "id": "655297f7-383c-4f07-af50-3da09397adb8",
   "metadata": {},
   "outputs": [
    {
     "name": "stdout",
     "output_type": "stream",
     "text": [
      "racrecar is a palindrome\n",
      "racrecar is a palindrome\n",
      "racrecar is a palindrome\n",
      "racrecar is a palindrome\n",
      "racrecar is a palindrome\n",
      "racrecar is a palindrome\n",
      "racrecar is a palindrome\n",
      "racrecar is a palindrome\n"
     ]
    }
   ],
   "source": [
    "#Question 2 :Palindrome function\n",
    "\n",
    "#word = user.input(\"entor word here:\")\n",
    "word = \"racrecar\"\n",
    "def palindrome_checker(word):\n",
    "    for i in word:\n",
    "        if (i[-1] == i[0]):\n",
    "            print(word, \"is a palindrome\")\n",
    "        else:\n",
    "            print(word, \"is not a palindrome\")\n",
    "            \n",
    "        \n",
    "\n",
    "palindrome_checker(word)"
   ]
  }
 ],
 "metadata": {
  "kernelspec": {
   "display_name": "Python 3 (ipykernel)",
   "language": "python",
   "name": "python3"
  },
  "language_info": {
   "codemirror_mode": {
    "name": "ipython",
    "version": 3
   },
   "file_extension": ".py",
   "mimetype": "text/x-python",
   "name": "python",
   "nbconvert_exporter": "python",
   "pygments_lexer": "ipython3",
   "version": "3.12.2"
  }
 },
 "nbformat": 4,
 "nbformat_minor": 5
}
